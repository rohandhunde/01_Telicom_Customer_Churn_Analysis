{
  "nbformat": 4,
  "nbformat_minor": 0,
  "metadata": {
    "colab": {
      "private_outputs": true,
      "provenance": [],
      "collapsed_sections": [
        "gIfDvo9L0UH2"
      ],
      "include_colab_link": true
    },
    "kernelspec": {
      "name": "python3",
      "display_name": "Python 3"
    },
    "language_info": {
      "name": "python"
    },
    "accelerator": "GPU",
    "gpuClass": "standard"
  },
  "cells": [
    {
      "cell_type": "markdown",
      "metadata": {
        "id": "view-in-github",
        "colab_type": "text"
      },
      "source": [
        "<a href=\"https://colab.research.google.com/github/rohandhunde/Telicom_Customer_Churn_Analysis/blob/main/Customer_Churn_Telocom_EDA_Project.ipynb\" target=\"_parent\"><img src=\"https://colab.research.google.com/assets/colab-badge.svg\" alt=\"Open In Colab\"/></a>"
      ]
    },
    {
      "cell_type": "markdown",
      "source": [
        "# **Project Name**    - Telicom Churn Analysis\n",
        "\n"
      ],
      "metadata": {
        "id": "vncDsAP0Gaoa"
      }
    },
    {
      "cell_type": "markdown",
      "source": [
        "##### **Project Type**    - EDA\n",
        "##### - Individual"
      ],
      "metadata": {
        "id": "beRrZCGUAJYm"
      }
    },
    {
      "cell_type": "markdown",
      "source": [
        "# **Project Summary -**"
      ],
      "metadata": {
        "id": "FJNUwmbgGyua"
      }
    },
    {
      "cell_type": "markdown",
      "source": [
        "The Churn Data Analysis project aimed to analyze customer churn data for a telecommunications company using Python. The project involved importing the data, cleaning and preprocessing it, conducting exploratory data analysis, performing statistical analysis, and developing predictive models using machine learning algorithms.\n",
        "\n",
        "Through the analysis, several important findings were discovered. It was found that customers with the International Plan were more likely to churn than those without it, and that customers with four or more customer service calls were more likely to churn than those with fewer calls. Additionally, high day and evening minutes were associated with higher churn rates.\n",
        "\n",
        "Based on these findings, several recommendations were made to help reduce customer churn, such as modifying the International Plan to be more appealing, being proactive with communication, periodically offering promotions to retain customers, and addressing poor network connectivity issues.\n",
        "\n",
        "Overall, the Churn Data Analysis project provided valuable insights into customer behavior and suggested potential strategies to help the telecommunications company reduce customer churn and improve business performance."
      ],
      "metadata": {
        "id": "F6v_1wHtG2nS"
      }
    },
    {
      "cell_type": "markdown",
      "source": [
        "**GitHub Link -**https://github.com/rohandhunde/Telicom_Customer_Churn_Analysis"
      ],
      "metadata": {
        "id": "w6K7xa23Elo4"
      }
    },
    {
      "cell_type": "markdown",
      "source": [
        "https://github.com/rohandhunde/EDA-telocom-churn-analysis"
      ],
      "metadata": {
        "id": "h1o69JH3Eqqn"
      }
    },
    {
      "cell_type": "markdown",
      "source": [
        "# **Problem Statement**\n"
      ],
      "metadata": {
        "id": "yQaldy8SH6Dl"
      }
    },
    {
      "cell_type": "markdown",
      "source": [
        "**Write Problem Statement Here.**\n",
        "\n",
        "Customer churn prediction is extremely important for any business as it recognizes the clients who are likely to stop using their services.\n",
        "\n",
        "In the telecom industry, customers are able to choose from multiple service providers and actively switch from one operator to another. In this highly competitive market, the telecommunications industry experiences an average of 15-25% annual churn rate. Given the fact that it costs 5-10 times more to acquire a new customer than to retain an existing one, customer retention has now become even more important than customer acquisition.\n",
        "\n",
        "For many incumbent operators, retaining high profitable customers is the number one business goal. To reduce customer churn, telecom companies need to predict which customers are at high risk of churn. In this project, you will analyse customer-level data of a leading telecom firm, do exploratory data analysis to identify the main indicators why customers are leaving the company."
      ],
      "metadata": {
        "id": "DpeJGUA3kjGy"
      }
    },
    {
      "cell_type": "markdown",
      "source": [
        "#### **Define Your Business Objective?**"
      ],
      "metadata": {
        "id": "PH-0ReGfmX4f"
      }
    },
    {
      "cell_type": "markdown",
      "source": [
        "***Reducing Customer Churn Rate***"
      ],
      "metadata": {
        "id": "PhDvGCAqmjP1"
      }
    },
    {
      "cell_type": "markdown",
      "source": [
        "# **General Guidelines** : -  "
      ],
      "metadata": {
        "id": "mDgbUHAGgjLW"
      }
    },
    {
      "cell_type": "markdown",
      "source": [
        "1.   Well-structured, formatted, and commented code is required.\n",
        "2.   Exception Handling, Production Grade Code & Deployment Ready Code will be a plus. Those students will be awarded some additional credits.\n",
        "     \n",
        "     The additional credits will have advantages over other students during Star Student selection.\n",
        "       \n",
        "             [ Note: - Deployment Ready Code is defined as, the whole .ipynb notebook should be executable in one go\n",
        "                       without a single error logged. ]\n",
        "\n",
        "3.   Each and every logic should have proper comments.\n",
        "4. You may add as many number of charts you want. Make Sure for each and every chart the following format should be answered.\n",
        "        \n",
        "\n",
        "```\n",
        "# Chart visualization code\n",
        "```\n",
        "            \n",
        "\n",
        "*   Why did you pick the specific chart?\n",
        "*   What is/are the insight(s) found from the chart?\n",
        "* Will the gained insights help creating a positive business impact?\n",
        "Are there any insights that lead to negative growth? Justify with specific reason.\n",
        "\n",
        "5. You have to create at least 20 logical & meaningful charts having important insights.\n",
        "\n",
        "\n",
        "[ Hints : - Do the Vizualization in  a structured way while following \"UBM\" Rule.\n",
        "\n",
        "U - Univariate Analysis,\n",
        "\n",
        "B - Bivariate Analysis (Numerical - Categorical, Numerical - Numerical, Categorical - Categorical)\n",
        "\n",
        "M - Multivariate Analysis\n",
        " ]\n",
        "\n",
        "\n",
        "\n"
      ],
      "metadata": {
        "id": "ZrxVaUj-hHfC"
      }
    },
    {
      "cell_type": "markdown",
      "source": [
        "# ***Let's Begin !***"
      ],
      "metadata": {
        "id": "O_i_v8NEhb9l"
      }
    },
    {
      "cell_type": "markdown",
      "source": [
        "## ***1. Know Your Data***"
      ],
      "metadata": {
        "id": "HhfV-JJviCcP"
      }
    },
    {
      "cell_type": "markdown",
      "source": [
        "### Import Libraries"
      ],
      "metadata": {
        "id": "Y3lxredqlCYt"
      }
    },
    {
      "cell_type": "code",
      "source": [
        "# Import Libraries\n",
        "import numpy as np\n",
        "import pandas as pd\n",
        "from numpy import math\n",
        "from numpy import loadtxt\n",
        "import seaborn as sns\n",
        "import matplotlib.pyplot as plt\n",
        "%matplotlib inline\n",
        "from matplotlib import rcParams\n",
        "import warnings\n",
        "warnings.filterwarnings('ignore')"
      ],
      "metadata": {
        "id": "M8Vqi-pPk-HR"
      },
      "execution_count": null,
      "outputs": []
    },
    {
      "cell_type": "markdown",
      "source": [
        "### Dataset Loading"
      ],
      "metadata": {
        "id": "3RnN4peoiCZX"
      }
    },
    {
      "cell_type": "code",
      "source": [
        "# Replace the file link with the link to your own file\n",
        "url = 'https://drive.google.com/file/d/1F1liwDyQVlimL2rEo1ndmuX4LzNNeBW8/view?usp=sharing'\n",
        "\n",
        "# Extract the file ID from the link\n",
        "file_id = url.split('/')[-2]\n",
        "\n",
        "# Generate a download link for the file\n",
        "download_link = 'https://drive.google.com/uc?id=' + file_id\n",
        "\n",
        "# Read the CSV file into a Pandas DataFrame\n",
        "df = pd.read_csv(download_link)\n"
      ],
      "metadata": {
        "id": "4CkvbW_SlZ_R"
      },
      "execution_count": null,
      "outputs": []
    },
    {
      "cell_type": "markdown",
      "source": [
        "### Dataset First View"
      ],
      "metadata": {
        "id": "x71ZqKXriCWQ"
      }
    },
    {
      "cell_type": "code",
      "source": [
        "# Dataset First Look\n",
        "df.head()"
      ],
      "metadata": {
        "id": "LWNFOSvLl09H"
      },
      "execution_count": null,
      "outputs": []
    },
    {
      "cell_type": "code",
      "source": [
        "# last 5 rows look\n",
        "df.tail()"
      ],
      "metadata": {
        "id": "-P3Mn4Y-1mps"
      },
      "execution_count": null,
      "outputs": []
    },
    {
      "cell_type": "markdown",
      "source": [
        "### Dataset Rows & Columns count"
      ],
      "metadata": {
        "id": "7hBIi_osiCS2"
      }
    },
    {
      "cell_type": "code",
      "source": [
        "# Dataset Rows & Columns count\n",
        "df.shape"
      ],
      "metadata": {
        "id": "Kllu7SJgmLij"
      },
      "execution_count": null,
      "outputs": []
    },
    {
      "cell_type": "markdown",
      "source": [
        "### Dataset Information"
      ],
      "metadata": {
        "id": "JlHwYmJAmNHm"
      }
    },
    {
      "cell_type": "code",
      "source": [
        "# Dataset Info\n",
        "df.info()"
      ],
      "metadata": {
        "id": "e9hRXRi6meOf"
      },
      "execution_count": null,
      "outputs": []
    },
    {
      "cell_type": "markdown",
      "source": [
        "#### Duplicate Values"
      ],
      "metadata": {
        "id": "35m5QtbWiB9F"
      }
    },
    {
      "cell_type": "code",
      "source": [
        "# Dataset Duplicate Value Count\n",
        "df.duplicated()\n",
        "len(df[df.duplicated()])"
      ],
      "metadata": {
        "id": "1sLdpKYkmox0"
      },
      "execution_count": null,
      "outputs": []
    },
    {
      "cell_type": "markdown",
      "source": [
        "#### Missing Values/Null Values"
      ],
      "metadata": {
        "id": "PoPl-ycgm1ru"
      }
    },
    {
      "cell_type": "code",
      "source": [
        "# Missing Values/Null Values Count\n",
        "df.isna().sum()"
      ],
      "metadata": {
        "id": "GgHWkxvamxVg"
      },
      "execution_count": null,
      "outputs": []
    },
    {
      "cell_type": "code",
      "source": [
        "# Visualizing the missing values\n",
        "sns.heatmap(df.isna())\n",
        "df.isna().sum()"
      ],
      "metadata": {
        "id": "3q5wnI3om9sJ"
      },
      "execution_count": null,
      "outputs": []
    },
    {
      "cell_type": "markdown",
      "source": [
        "### What did you know about your dataset?"
      ],
      "metadata": {
        "id": "H0kj-8xxnORC"
      }
    },
    {
      "cell_type": "markdown",
      "source": [
        "the dataset is comming from the telicom indestry and contain the some important fetures and important thats important for analysis .\n",
        "the dataset we have thet contain the 3333 rows and 20 columns . it has no missing values and does not contain any missing values in between dataset  The goal of your analysis is to study the churn of customers and gain insights into why they may abandon a product or service. Churn prediction involves analyzing the likelihood of a customer leaving and taking steps to prevent it."
      ],
      "metadata": {
        "id": "gfoNAAC-nUe_"
      }
    },
    {
      "cell_type": "markdown",
      "source": [
        "## ***2. Understanding Your Variables***"
      ],
      "metadata": {
        "id": "nA9Y7ga8ng1Z"
      }
    },
    {
      "cell_type": "code",
      "source": [
        "# Dataset Columns\n",
        "df.columns"
      ],
      "metadata": {
        "id": "j7xfkqrt5Ag5"
      },
      "execution_count": null,
      "outputs": []
    },
    {
      "cell_type": "code",
      "source": [
        "# Data set Describe\n",
        "df.describe(include=\"all\")"
      ],
      "metadata": {
        "id": "RvhsUK3w9xdu"
      },
      "execution_count": null,
      "outputs": []
    },
    {
      "cell_type": "markdown",
      "source": [
        "### Variables Description"
      ],
      "metadata": {
        "id": "PBTbrJXOngz2"
      }
    },
    {
      "cell_type": "markdown",
      "source": [
        "* **State                :**categorica for the 50 states\n",
        "\n",
        "* **Account Length       :**how long account has been active\n",
        "\n",
        "* **Area Code            :**Code Number of Area having some States included in each area code\n",
        "\n",
        "* **lntl Plan            :**Internat ional plan activated ( yes, no )\n",
        "\n",
        "* **VMail Plan           :**  ice Mail plan activated ( yes ,no )\n",
        "\n",
        "* **VMail Message        :**No.of voice mail messages\n",
        "\n",
        "* **Day Mins             :**Total day minutes used\n",
        "\n",
        "* **Day calls**         :Total day calls made\n",
        "\n",
        "* **Day Charge**         :Total day charge\n",
        "\n",
        "* **Eve Mins**          :Total evening minutes\n",
        "\n",
        "* **Eve Calls**          :Total evening calls\n",
        "\n",
        "* **Eve Charge**         :Total evening charge\n",
        "\n",
        "* **Night Mins**         :Total night minutes\n",
        "\n",
        "* **Night Calls**        :Total night calls\n",
        "\n",
        "* **Night Charge**      :Total night charge\n",
        "\n",
        "* **Intl Mins**         :Total International minutes used\n",
        "\n",
        "* **Intl Calls**         :Total International calls made\n",
        "\n",
        "* **Intl Charge**        :Total International charge\n",
        "\n",
        "* **CustServ calls**    :Number of customer service caUs made\n",
        "\n",
        "* **Churn**             :Customer churn (Target Variable True=1, False=0)"
      ],
      "metadata": {
        "id": "aJV4KIxSnxay"
      }
    },
    {
      "cell_type": "markdown",
      "source": [
        "### Check Unique Values for each variable."
      ],
      "metadata": {
        "id": "u3PMJOP6ngxN"
      }
    },
    {
      "cell_type": "code",
      "source": [
        "# Check Unique Values for each variable.\n",
        "for column in df.columns:\n",
        "    print(f\"{column}: {df[column].nunique()} unique values\")"
      ],
      "metadata": {
        "id": "a12M7lX6QDgb"
      },
      "execution_count": null,
      "outputs": []
    },
    {
      "cell_type": "markdown",
      "source": [
        "## 3. ***Data Wrangling***"
      ],
      "metadata": {
        "id": "dauF4eBmngu3"
      }
    },
    {
      "cell_type": "markdown",
      "source": [
        "### Data Wrangling Code"
      ],
      "metadata": {
        "id": "bKJF3rekwFvQ"
      }
    },
    {
      "cell_type": "code",
      "source": [
        "# extracting the churn and non_churn data from whole dataset\n",
        "not_churn_data = df[df['Churn'] == False]\n",
        "not_churn_data.shape\n",
        "churn_data = df[df['Churn'] == True]\n",
        "churn_data.shape\n",
        "\n",
        "not_churn_data.shape,churn_data.shape\n",
        "\n"
      ],
      "metadata": {
        "id": "y8gnZ2o_i4Hl"
      },
      "execution_count": null,
      "outputs": []
    },
    {
      "cell_type": "code",
      "source": [
        "df=df.copy()"
      ],
      "metadata": {
        "id": "RChbbH41xUb8"
      },
      "execution_count": null,
      "outputs": []
    },
    {
      "cell_type": "code",
      "source": [
        "# Write your code to make your dataset analysis ready.\n",
        "# Create a copy of the current dataset and assigning to df\n",
        "\n",
        "# Counting the number of churned customers\n",
        "num_churned_customers = df['Churn'].sum()\n",
        "print(\"No. of customers Churning : -\", num_churned_customers)\n",
        "\n",
        "# Assigning churn customers data to variable df_churn\n",
        "df_churn = df.loc[df['Churn'] == True]"
      ],
      "metadata": {
        "id": "wk-9a2fpoLcV"
      },
      "execution_count": null,
      "outputs": []
    },
    {
      "cell_type": "code",
      "source": [
        "# Churn data groupby Area Code Wise\n",
        "pd.DataFrame(df.groupby('Area code')['Churn'].value_counts().reset_index(name=\"Count\"))"
      ],
      "metadata": {
        "id": "P78LTv0iQTSd"
      },
      "execution_count": null,
      "outputs": []
    },
    {
      "cell_type": "code",
      "source": [
        "# what is the shape of the unique values in dataset\n",
        "df[\"State\"].value_counts().shape"
      ],
      "metadata": {
        "id": "82BokXI12S9_"
      },
      "execution_count": null,
      "outputs": []
    },
    {
      "cell_type": "code",
      "source": [
        "# unique aracod\n",
        "print(df[\"Area code\"].unique())"
      ],
      "metadata": {
        "id": "onb1Up8T9_mJ"
      },
      "execution_count": null,
      "outputs": []
    },
    {
      "cell_type": "code",
      "source": [
        "def get_mean_median(df, area_code):\n",
        "    '''\n",
        "    This function returns the mean and median of the whole dataset for a particular area code.\n",
        "    '''\n",
        "    area_code_df = df[df['Area code'] == area_code]\n",
        "    churned_customers_df = area_code_df[area_code_df['Churn'] == True]\n",
        "\n",
        "    if churned_customers_df.empty:\n",
        "        print(\"Invalid Area Code\")\n",
        "        return None\n",
        "\n",
        "    mean = churned_customers_df['Total day charge'].mean()\n",
        "    median = churned_customers_df['Total day charge'].median()\n",
        "\n",
        "    return pd.DataFrame({'mean': [mean], 'median': [median]})"
      ],
      "metadata": {
        "id": "vyiGO7oBQYeF"
      },
      "execution_count": null,
      "outputs": []
    },
    {
      "cell_type": "code",
      "source": [
        "# Getting Mean Median for area code 408\n",
        "area_code = 408\n",
        "get_mean_median(df, area_code)"
      ],
      "metadata": {
        "id": "pw34_Sg_QhJN"
      },
      "execution_count": null,
      "outputs": []
    },
    {
      "cell_type": "markdown",
      "source": [
        "### What all manipulations have you done and insights you found?"
      ],
      "metadata": {
        "id": "MSa1f5Uengrz"
      }
    },
    {
      "cell_type": "markdown",
      "source": [
        "Based on your approach, it seems that you have taken a data-driven approach to identify the reasons behind customer churn. By analyzing the churned customer data, you have attempted to identify patterns and behaviors that may have led to customers leaving your service.\n",
        "\n",
        "One of the key insights you have gained from your analysis is that customers who have taken the voice mail plan but are not using it and talking for longer durations may be facing network issues. This suggests that network quality and stability may be a significant factor in customer churn. It is worth exploring ways to improve the quality of your network to address this issue and reduce customer churn.\n",
        "\n",
        "In addition to network issues, you may have also identified other reasons for customer churn. For example, customers who are making a high number of international calls may be experiencing high costs, which could prompt them to switch to a different provider. Similarly, customers who are making a high number of calls during the day or night may be experiencing a lack of flexibility in their plan, which could also prompt them to switch providers.\n",
        "\n",
        "Another possible reason for customer churn is dissatisfaction with customer service. Customers who are unhappy with the level of support they receive may be more likely to switch providers. It may be worth exploring ways to improve customer service, such as providing faster response times, more personalized support, or additional resources to help customers troubleshoot issues.\n",
        "\n",
        "Overall, your approach to identifying the reasons behind customer churn is a data-driven one that focuses on analyzing customer behavior to identify patterns and insights. By creating new columns and experimenting with different logics, you have been able to gain valuable insights into the factors that may be driving customer churn. By addressing these issues, you can work to reduce churn and retain more customers over the long term."
      ],
      "metadata": {
        "id": "LbyXE7I1olp8"
      }
    },
    {
      "cell_type": "markdown",
      "source": [
        "## ***4. Data Vizualization, Storytelling & Experimenting with charts : Understand the relationships between variables***"
      ],
      "metadata": {
        "id": "GF8Ens_Soomf"
      }
    },
    {
      "cell_type": "markdown",
      "source": [
        "#### Chart - 1"
      ],
      "metadata": {
        "id": "0wOQAZs5pc--"
      }
    },
    {
      "cell_type": "code",
      "source": [
        "# Chart - 1 visualization code\n",
        "print(df.Churn.value_counts())\n",
        "df['Churn'].value_counts().plot(kind='pie',autopct=\"%1.1f%%\",colors=[\"salmon\",\"skyblue\"])"
      ],
      "metadata": {
        "id": "7v_ESjsspbW7"
      },
      "execution_count": null,
      "outputs": []
    },
    {
      "cell_type": "code",
      "source": [
        "print(df.Churn.value_counts())\n",
        "df['Churn'].value_counts().plot(kind='bar', color=[\"salmon\",\"skyblue\"])\n",
        "plt.title('Churn Data')\n",
        "plt.xlabel('Churn')\n",
        "plt.ylabel('Count')\n",
        "plt.xticks(rotation=0)\n",
        "plt.show()"
      ],
      "metadata": {
        "id": "8UL35rS__al0"
      },
      "execution_count": null,
      "outputs": []
    },
    {
      "cell_type": "markdown",
      "source": [
        "##### 1. Why did you pick the specific chart?"
      ],
      "metadata": {
        "id": "K5QZ13OEpz2H"
      }
    },
    {
      "cell_type": "markdown",
      "source": [
        "a pie chart express the relation ship betwee the false and true values in one circle the why we can get the idea about the whole dataset . thats we want"
      ],
      "metadata": {
        "id": "XESiWehPqBRc"
      }
    },
    {
      "cell_type": "markdown",
      "source": [
        "##### 2. What is/are the insight(s) found from the chart?"
      ],
      "metadata": {
        "id": "lQ7QKXXCp7Bj"
      }
    },
    {
      "cell_type": "markdown",
      "source": [
        "in the dataset we have 3333 total vlues in which we have 2850 False this fugure is almost 85.5% and we have 438  True and that is exactely 14.5 % according to our visuallization\n"
      ],
      "metadata": {
        "id": "C_j1G7yiqdRP"
      }
    },
    {
      "cell_type": "markdown",
      "source": [
        "##### 3. Will the gained insights help creating a positive business impact?\n",
        "Are there any insights that lead to negative growth? Justify with specific reason."
      ],
      "metadata": {
        "id": "448CDAPjqfQr"
      }
    },
    {
      "cell_type": "markdown",
      "source": [
        " customer churn is a significant business metric in the telecom industry, and it directly affects the competitiveness of service providers. Customer churn can be caused by a variety of factors, including poor network quality, dissatisfaction with customer service, and the introduction of new competitors. It is essential for service providers to focus on customer retention as well as customer acquisition, as retaining existing customers is typically less costly than acquiring new ones. By investing in network infrastructure, offering flexible plans, and improving customer service, telecom service providers can reduce customer churn and improve their competitiveness in the market. Additionally, positive word of mouth can also be a powerful tool in acquiring new customers and reducing customer churn rates."
      ],
      "metadata": {
        "id": "3cspy4FjqxJW"
      }
    },
    {
      "cell_type": "markdown",
      "source": [
        "#### Chart - 2"
      ],
      "metadata": {
        "id": "KSlN3yHqYklG"
      }
    },
    {
      "cell_type": "code",
      "source": [
        "# Chart - 2 visualization code\n",
        "# Calculate the churn rate for each state and sort in descending order\n",
        "churn_rate_by_state = df.groupby('State')['Churn'].mean().sort_values(ascending=False)\n",
        "\n",
        "# Show the top 10 churned states\n",
        "top_10_churned_states = churn_rate_by_state.head(10)\n",
        "print(top_10_churned_states)\n",
        "\n",
        "# Visualize the top 10 churned states\n",
        "colors = ['#E71D36', '#FF9F1C', '#FECB52', '#2EC4B6', '#48BB78', '#FFDAB9', '#FED8B1', '#D6A2E8', '#9B5DE5', '#1D3557']\n",
        "plt.bar(top_10_churned_states.index, top_10_churned_states.values, color=colors)\n",
        "plt.title(\"States with the highest churn rate\", fontsize=20)\n",
        "plt.xlabel('State', fontsize=15)\n",
        "plt.ylabel('Churn Rate (%)', fontsize=15)\n",
        "plt.show()"
      ],
      "metadata": {
        "id": "R4YgtaqtYklH"
      },
      "execution_count": null,
      "outputs": []
    },
    {
      "cell_type": "markdown",
      "source": [
        "##### 1. Why did you pick the specific chart?"
      ],
      "metadata": {
        "id": "t6dVpIINYklI"
      }
    },
    {
      "cell_type": "markdown",
      "source": [
        "bar chart the show the frequency of the each column with each state"
      ],
      "metadata": {
        "id": "5aaW0BYyYklI"
      }
    },
    {
      "cell_type": "markdown",
      "source": [
        "##### 2. What is/are the insight(s) found from the chart?"
      ],
      "metadata": {
        "id": "ijmpgYnKYklI"
      }
    },
    {
      "cell_type": "markdown",
      "source": [
        "Out of the 51 states included in the dataset, 10 states have higher churn rates of over 21.74%, which is more than 50% of the average churn rate. These states are CA, NJ, TX, MD, SC, MI, MS, NV, WA, and ME.\n",
        "\n",
        "Based on data wrangling, it has been observed that some states have poor network regions, while others require better maintenance and new installations. Interestingly, the states of NV and NJ are both in the top 10 churned states, indicating that these issues may be contributing to the high churn rates in these states."
      ],
      "metadata": {
        "id": "PSx9atu2YklI"
      }
    },
    {
      "cell_type": "markdown",
      "source": [
        "##### 3. Will the gained insights help creating a positive business impact?\n",
        "Are there any insights that lead to negative growth? Justify with specific reason."
      ],
      "metadata": {
        "id": "-JiQyfWJYklI"
      }
    },
    {
      "cell_type": "markdown",
      "source": [
        "The insights gained from analyzing the churn rates can certainly have a positive impact on businesses. By identifying the top churned states, businesses can focus their efforts on improving their services and retaining more customers, which can lead to better growth prospects. For instance, if poor network coverage is causing high churn rates in a state, businesses can work on improving connectivity and network coverage to retain more customers.\n",
        "\n",
        "However, if businesses fail to take appropriate action based on the insights gained, it may lead to negative growth. Continuously high churn rates can result in a loss of customers and revenue, which can have a detrimental effect on business growth.\n",
        "\n",
        "Therefore, it is crucial for businesses to consider these insights seriously and implement measures to improve their service quality and customer retention in the identified states with high churn rates, to avoid negative impact on growth."
      ],
      "metadata": {
        "id": "BcBbebzrYklV"
      }
    },
    {
      "cell_type": "markdown",
      "source": [
        "#### Chart - 3"
      ],
      "metadata": {
        "id": "EM7whBJCYoAo"
      }
    },
    {
      "cell_type": "code",
      "source": [
        "# Chart - 3 visualization code\n",
        "# Box Plot for Account Length attribute\n",
        "sns.set(style=\"whitegrid\")\n",
        "plt.figure(figsize=(8,6))\n",
        "sns.boxplot(x='Churn', y='Account length', data=df, palette='coolwarm')\n",
        "plt.xlabel('Churn', fontsize=12)\n",
        "plt.ylabel('Account Length', fontsize=12)\n",
        "plt.title('Boxplot of Account Length Grouped by Churn', fontsize=14)\n",
        "plt.show()"
      ],
      "metadata": {
        "id": "t6GMdE67YoAp"
      },
      "execution_count": null,
      "outputs": []
    },
    {
      "cell_type": "markdown",
      "source": [
        "##### 1. Why did you pick the specific chart?"
      ],
      "metadata": {
        "id": "fge-S5ZAYoAp"
      }
    },
    {
      "cell_type": "markdown",
      "source": [
        "that shows the distribution of the \"Account length\" variable based on the \"Churn\" variable. A box plot provides information about the symmetry, skew, variance, and outliers of the data. The graph shows the minimum and maximum values, median, and interquartile range. The outliers are well segregated, and the mean and median are well defined in the box plot."
      ],
      "metadata": {
        "id": "5dBItgRVYoAp"
      }
    },
    {
      "cell_type": "markdown",
      "source": [
        "##### 2. What is/are the insight(s) found from the chart?"
      ],
      "metadata": {
        "id": "85gYPyotYoAp"
      }
    },
    {
      "cell_type": "markdown",
      "source": [
        "From the boxplot, we can see the distribution of the \"Account length\" feature for both the \"Churn\" and \"Non-Churn\" groups. The boxplot helps us to identify the median, interquartile range (IQR), outliers, and the overall shape of the distribution."
      ],
      "metadata": {
        "id": "4jstXR6OYoAp"
      }
    },
    {
      "cell_type": "markdown",
      "source": [
        "##### 3. Will the gained insights help creating a positive business impact?\n",
        "Are there any insights that lead to negative growth? Justify with specific reason."
      ],
      "metadata": {
        "id": "RoGjAbkUYoAp"
      }
    },
    {
      "cell_type": "markdown",
      "source": [
        "The insights gained from the box plot can help create a positive business impact by providing information about the distribution of a particular variable, in this case, the account length. By comparing the account length distribution between the churned and non-churned customers, businesses can identify patterns and make informed decisions about customer retention strategies."
      ],
      "metadata": {
        "id": "zfJ8IqMcYoAp"
      }
    },
    {
      "cell_type": "markdown",
      "source": [
        "#### Chart - 4"
      ],
      "metadata": {
        "id": "4Of9eVA-YrdM"
      }
    },
    {
      "cell_type": "code",
      "source": [
        "df[\"Area code\"].unique()"
      ],
      "metadata": {
        "id": "nSUb-p2mD7E_"
      },
      "execution_count": null,
      "outputs": []
    },
    {
      "cell_type": "code",
      "source": [
        "# Chart - 4 visualization code\n",
        "# Group the data by 'Area code' and calculate the mean churn rate\n",
        "area_churn = df.groupby('Area code')['Churn'].mean().reset_index()\n",
        "\n",
        "# Create a bar plot using seaborn\n",
        "sns.barplot(x='Area code', y='Churn', data=area_churn, palette=['skyblue', 'lightgreen', 'pink'])\n",
        "plt.xlabel('Area code', fontsize = 15)\n",
        "plt.ylabel('Churn rate (%)', fontsize = 15)\n",
        "plt.title('Average Churn Rate by Area Code', fontsize=20)\n",
        "plt.show()"
      ],
      "metadata": {
        "id": "irlUoxc8YrdO"
      },
      "execution_count": null,
      "outputs": []
    },
    {
      "cell_type": "markdown",
      "source": [
        "##### 1. Why did you pick the specific chart?"
      ],
      "metadata": {
        "id": "iky9q4vBYrdO"
      }
    },
    {
      "cell_type": "markdown",
      "source": [
        "this plot can compere the data side by side and we can get the data overview easyly"
      ],
      "metadata": {
        "id": "aJRCwT6DYrdO"
      }
    },
    {
      "cell_type": "markdown",
      "source": [
        "##### 2. What is/are the insight(s) found from the chart?"
      ],
      "metadata": {
        "id": "F6T5p64dYrdO"
      }
    },
    {
      "cell_type": "markdown",
      "source": [
        "The average churn rate varies across the three area codes (408, 415, and 510), with customers in the 415 area code having the highest churn rate, followed by customers in the 408 area code, and customers in the 510 area code having the lowest churn rate."
      ],
      "metadata": {
        "id": "Xx8WAJvtYrdO"
      }
    },
    {
      "cell_type": "markdown",
      "source": [
        "##### 3. Will the gained insights help creating a positive business impact?\n",
        "Are there any insights that lead to negative growth? Justify with specific reason."
      ],
      "metadata": {
        "id": "y-Ehk30pYrdP"
      }
    },
    {
      "cell_type": "markdown",
      "source": [
        "The insights gained from analyzing the churn rate data can have a positive impact on business outcomes by identifying areas for improvement in customer satisfaction and retention. This can lead to a decrease in churn rates and an increase in customer loyalty, which in turn can result in increased revenue, customer lifetime value, and market share. However, ignoring the insights gained or focusing solely on reducing churn rates without addressing the underlying reasons for high churn rates can lead to negative growth in the long run, such as loss of revenue, market share, and reputation. Therefore, a careful analysis of the insights gained from the data and a holistic approach to improving customer satisfaction and retention is essential for positive business impact."
      ],
      "metadata": {
        "id": "jLNxxz7MYrdP"
      }
    },
    {
      "cell_type": "markdown",
      "source": [
        "#### Chart - 5"
      ],
      "metadata": {
        "id": "bamQiAODYuh1"
      }
    },
    {
      "cell_type": "code",
      "source": [
        "# Chart - 5 visualization code\n",
        "plt.figure(figsize=(12, 5))\n",
        "plt.subplot(1,2,1)\n",
        "sns.barplot(x='International plan', y='Total day minutes', data=df, ci=None)\n",
        "plt.title('Average Minutes Talked')\n",
        "plt.xlabel('International plan')\n",
        "plt.ylabel('Minutes')\n",
        "\n",
        "plt.tight_layout()\n",
        "plt.show()"
      ],
      "metadata": {
        "id": "TIJwrbroYuh3"
      },
      "execution_count": null,
      "outputs": []
    },
    {
      "cell_type": "code",
      "source": [
        "plt.subplot(1,2,2)\n",
        "sns.barplot(x='International plan', y='Total day charge', data=df, ci=None)\n",
        "plt.title('Average Calling Charge')\n",
        "plt.xlabel('International plan')\n",
        "plt.ylabel('Charge')\n",
        "\n",
        "plt.tight_layout()\n",
        "plt.show()"
      ],
      "metadata": {
        "id": "6ePMYxbmCmkc"
      },
      "execution_count": null,
      "outputs": []
    },
    {
      "cell_type": "markdown",
      "source": [
        "##### 1. Why did you pick the specific chart?"
      ],
      "metadata": {
        "id": "QHF8YVU7Yuh3"
      }
    },
    {
      "cell_type": "markdown",
      "source": [
        "The code creates a facet grid of two bar charts, with one chart showing the average minutes talked and the other showing the average calling charge for customers with and without an international plan, across two categories. This is a good choice for visualizing and comparing two sets of data within the same chart, making it easier to see the differences between the two categories. The use of seaborn's barplot also allows for easy customization of the visualization."
      ],
      "metadata": {
        "id": "dcxuIMRPYuh3"
      }
    },
    {
      "cell_type": "markdown",
      "source": [
        "##### 2. What is/are the insight(s) found from the chart?"
      ],
      "metadata": {
        "id": "GwzvFGzlYuh3"
      }
    },
    {
      "cell_type": "markdown",
      "source": [
        "Based on the information you provided, the first plot shows that the average talk time for customers without an international plan is around 175+ minutes, while for those with an international plan it is around 185+ minutes. This suggests that customers with an international plan tend to talk for slightly longer periods of time.\n",
        "\n",
        "The second plot indicates that the average calling charges for customers without an international plan are around $30+, while for those with an international plan, it is around $35+. This suggests that customers with an international plan tend to have higher calling charges compared to those without an international plan.\n",
        "\n",
        "Overall, these two plots suggest that there may be a correlation between having an international plan and higher talk time and calling charges. However, more detailed analysis and data would be required to confirm this hypothesis."
      ],
      "metadata": {
        "id": "uyqkiB8YYuh3"
      }
    },
    {
      "cell_type": "markdown",
      "source": [
        "##### 3. Will the gained insights help creating a positive business impact?\n",
        "Are there any insights that lead to negative growth? Justify with specific reason."
      ],
      "metadata": {
        "id": "qYpmQ266Yuh3"
      }
    },
    {
      "cell_type": "markdown",
      "source": [
        "3010 dont have a international plan\n",
        "\n",
        "323 have a international plan\n",
        "\n",
        "Among those who have a international plan 42.4 % people churn., if the company focuses solely on offering international plans without considering the underlying reasons for differences in average minutes talked and calling charges, such as differences in customer needs or preferences, it may lead to negative growth."
      ],
      "metadata": {
        "id": "_WtzZ_hCYuh4"
      }
    },
    {
      "cell_type": "markdown",
      "source": [
        "#### Chart - 6"
      ],
      "metadata": {
        "id": "OH-pJp9IphqM"
      }
    },
    {
      "cell_type": "code",
      "source": [
        "# Chart - 6 visualization code\n",
        "# Visualizing percentage of customers with voice mail plan\n",
        "plt.figure(figsize=(8,6))\n",
        "sns.countplot(x='Voice mail plan', data=df, palette=['skyblue', 'red'])\n",
        "plt.title('Customers with Voice Mail Plan')\n",
        "plt.xlabel('Voice mail plan')\n",
        "plt.ylabel('Count')"
      ],
      "metadata": {
        "id": "kYUZyU6hMy6C"
      },
      "execution_count": null,
      "outputs": []
    },
    {
      "cell_type": "markdown",
      "source": [
        "##### 1. Why did you pick the specific chart?"
      ],
      "metadata": {
        "id": "bbFf2-_FphqN"
      }
    },
    {
      "cell_type": "markdown",
      "source": [
        "as we can see we can ge the side by sede comparision on visuals."
      ],
      "metadata": {
        "id": "loh7H2nzphqN"
      }
    },
    {
      "cell_type": "markdown",
      "source": [
        "##### 2. What is/are the insight(s) found from the chart?"
      ],
      "metadata": {
        "id": "_ouA3fa0phqN"
      }
    },
    {
      "cell_type": "markdown",
      "source": [
        "The bar graph is used to compare the items between different groups over time. Bar graphs are used to measure the changes over a period of time."
      ],
      "metadata": {
        "id": "VECbqPI7phqN"
      }
    },
    {
      "cell_type": "markdown",
      "source": [
        "##### 3. Will the gained insights help creating a positive business impact?\n",
        "Are there any insights that lead to negative growth? Justify with specific reason."
      ],
      "metadata": {
        "id": "Seke61FWphqN"
      }
    },
    {
      "cell_type": "markdown",
      "source": [
        "Providing a voice mail plan to customers can reduce the churn rate as customers with the voice mail plan tend to churn less frequently. This could be due to the fact that customers with a voice mail plan feel more engaged and connected with the service, as they have a feature that allows them to easily leave and receive voice messages. Additionally, customers may perceive the voice mail plan as an added value and are more likely to continue using the service to make use of this feature. Therefore, offering a voice mail plan to customers can be a potential strategy to reduce churn and improve customer retention."
      ],
      "metadata": {
        "id": "DW4_bGpfphqN"
      }
    },
    {
      "cell_type": "markdown",
      "source": [
        "#### Chart - 7"
      ],
      "metadata": {
        "id": "PIIx-8_IphqN"
      }
    },
    {
      "cell_type": "code",
      "source": [
        "# Chart - 7 visualization code\n",
        "\n",
        "\n",
        "sns.barplot(x=\"Churn\", y=\"Total day calls\", data=df, ci=None)\n",
        "plt.title(\"Mean Total Day Calls\")\n",
        "plt.xlabel(\"Churn\")\n",
        "plt.ylabel(\"Total Day Calls\")"
      ],
      "metadata": {
        "id": "1Zl55VZSEw9N"
      },
      "execution_count": null,
      "outputs": []
    },
    {
      "cell_type": "code",
      "source": [
        "sns.barplot(x=\"Churn\", y=\"Total day minutes\", data=df, ci=None)\n",
        "plt.title(\"Mean Total Day Minutes\")\n",
        "plt.xlabel(\"Churn\")\n",
        "plt.ylabel(\"Total Day Minutes\")"
      ],
      "metadata": {
        "id": "lek_o7W_E5Ps"
      },
      "execution_count": null,
      "outputs": []
    },
    {
      "cell_type": "code",
      "source": [
        "sns.barplot(x=\"Churn\", y=\"Total day charge\", data=df, ci=None)\n",
        "plt.title(\"Mean Total Day Charge\")\n",
        "plt.xlabel(\"Churn\")\n",
        "plt.ylabel(\"Total Day Charge\")"
      ],
      "metadata": {
        "id": "8SR_DygZE5Zz"
      },
      "execution_count": null,
      "outputs": []
    },
    {
      "cell_type": "markdown",
      "source": [
        "##### 1. Why did you pick the specific chart?"
      ],
      "metadata": {
        "id": "t27r6nlMphqO"
      }
    },
    {
      "cell_type": "markdown",
      "source": [
        "abobe the plot is better to get vissuals from data and cpmpare it side by side\n"
      ],
      "metadata": {
        "id": "iv6ro40sphqO"
      }
    },
    {
      "cell_type": "markdown",
      "source": [
        "##### 2. What is/are the insight(s) found from the chart?"
      ],
      "metadata": {
        "id": "r2jJGEOYphqO"
      }
    },
    {
      "cell_type": "markdown",
      "source": [
        "in mean total day calls we have churn in the form of true and false and false and true both are same in first plot\n",
        "\n",
        "in meand total day minuts plot\n",
        "we also have a churn in form true and false and true we have arround 200+ and false we have near about 175\n",
        "\n",
        "in total charges plot we have true value around 35 and false we have around  30"
      ],
      "metadata": {
        "id": "Po6ZPi4hphqO"
      }
    },
    {
      "cell_type": "markdown",
      "source": [
        "##### 3. Will the gained insights help creating a positive business impact?\n",
        "Are there any insights that lead to negative growth? Justify with specific reason."
      ],
      "metadata": {
        "id": "b0JNsNcRphqO"
      }
    },
    {
      "cell_type": "markdown",
      "source": [
        "The insights gained from the analysis can help create a positive business impact.\n",
        "\n",
        "For instance, customers who have an international plan tend to have longer call durations and generate higher charges. Hence, the company can introduce more attractive international plans to retain customers and increase revenue.\n",
        "\n",
        "Furthermore, customers with a voicemail plan tend to churn less frequently. Thus, the company can focus on marketing and promoting voicemail plans to retain customers and increase loyalty.\n",
        "\n",
        "However, there is one insight that may lead to negative growth. Customers who make fewer calls during the day and have lower charges are more likely to churn. This implies that the company may lose revenue if they focus only on retaining high-value customers and ignore customers who generate less revenue. Hence, the company needs to balance their retention strategies for both high-value and low-value customers to ensure sustained growth.\n",
        "\n"
      ],
      "metadata": {
        "id": "xvSq8iUTphqO"
      }
    },
    {
      "cell_type": "markdown",
      "source": [
        "#### Chart - 8"
      ],
      "metadata": {
        "id": "BZR9WyysphqO"
      }
    },
    {
      "cell_type": "code",
      "source": [
        "# Chart - 8 visualization code\n",
        "# Visualizing churn rate per customer service calls\n",
        "plt.rcParams['figure.figsize'] = (12, 8)\n",
        "\n",
        "\n",
        "s1=list(df['Customer service calls'].unique())\n",
        "s2=list(df.groupby(['Customer service calls'])['Churn'].mean()*100)\n",
        "plt.bar(s1,s2, color = ['violet','indigo','b','g','y','orange','r'])\n",
        "\n",
        "\n",
        "plt.title(\" Churn rate per service call\", fontsize = 20)\n",
        "plt.xlabel('No of cust service call', fontsize = 15)\n",
        "plt.ylabel(' percentage', fontsize = 15)\n",
        "plt.show()"
      ],
      "metadata": {
        "id": "TdPTWpAVphqO"
      },
      "execution_count": null,
      "outputs": []
    },
    {
      "cell_type": "markdown",
      "source": [
        "##### 1. Why did you pick the specific chart?"
      ],
      "metadata": {
        "id": "jj7wYXLtphqO"
      }
    },
    {
      "cell_type": "markdown",
      "source": [
        "The bar graph is used to compare the items between different groups over time."
      ],
      "metadata": {
        "id": "Ob8u6rCTphqO"
      }
    },
    {
      "cell_type": "markdown",
      "source": [
        "##### 2. What is/are the insight(s) found from the chart?"
      ],
      "metadata": {
        "id": "eZrbJ2SmphqO"
      }
    },
    {
      "cell_type": "markdown",
      "source": [
        "The data shows that customers make varying numbers of service calls, with a range of 0 to 9. Customers who make more service calls are more likely to leave. Specifically, customers who make more than 5 service calls have a probability of leaving that exceeds 50%. Therefore, it is important to prioritize solving the issues of customers who make more than 5 service calls and providing them with better service to prevent them from leaving. Additionally, customers who make 4 or more service calls are more likely to churn than those who make fewer service calls, at a rate of over four times more often."
      ],
      "metadata": {
        "id": "mZtgC_hjphqO"
      }
    },
    {
      "cell_type": "markdown",
      "source": [
        "##### 3. Will the gained insights help creating a positive business impact?\n",
        "Are there any insights that lead to negative growth? Justify with specific reason."
      ],
      "metadata": {
        "id": "rFu4xreNphqO"
      }
    },
    {
      "cell_type": "markdown",
      "source": [
        "the gained insights can help in creating a positive business impact. By identifying that customers with more than 5 service calls are likely to leave, the company can take measures to address their concerns and provide better service to retain them. This can help in reducing customer churn and increasing customer loyalty, which can have a positive impact on the business.\n",
        "\n",
        "However, the insight that customers with four or more customer service calls churn more than four times as often as other customers can lead to negative growth if the company fails to address their concerns and improve their experience. If these customers continue to face issues and do not receive satisfactory resolution, they may leave the company, leading to increased customer churn and negative impact on the business. Therefore, it is important for the company to focus on resolving the issues of such customers and improve their overall experience to prevent negative growth."
      ],
      "metadata": {
        "id": "ey_0qi68phqO"
      }
    },
    {
      "cell_type": "markdown",
      "source": [
        "#### Chart - 12"
      ],
      "metadata": {
        "id": "n3dbpmDWp1ck"
      }
    },
    {
      "cell_type": "code",
      "source": [
        "# Chart - 12 visualization code\n",
        "s1=df['State'].unique()\n",
        "s2=df.groupby(['State'])['Churn'].mean()\n",
        "\n",
        "plt.rcParams['figure.figsize'] = (18, 7)\n",
        "\n",
        "plt.plot(s1,s2,color='r', marker='o', linewidth=2, markersize=12)\n",
        "\n",
        "plt.title(\" States churn rate\", fontsize = 20)\n",
        "plt.xlabel('state', fontsize = 15)\n",
        "plt.ylabel('churn rate', fontsize = 15)\n",
        "plt.show()"
      ],
      "metadata": {
        "id": "bwevp1tKp1ck"
      },
      "execution_count": null,
      "outputs": []
    },
    {
      "cell_type": "markdown",
      "source": [
        "##### 1. Why did you pick the specific chart?"
      ],
      "metadata": {
        "id": "ylSl6qgtp1ck"
      }
    },
    {
      "cell_type": "markdown",
      "source": [
        "we can get the point wise overview of the data"
      ],
      "metadata": {
        "id": "m2xqNkiQp1ck"
      }
    },
    {
      "cell_type": "markdown",
      "source": [
        "##### 2. What is/are the insight(s) found from the chart?"
      ],
      "metadata": {
        "id": "ZWILFDl5p1ck"
      }
    },
    {
      "cell_type": "markdown",
      "source": [
        "above the visualization is on the basis of state churn data analysis rate\n",
        "it is the relation between the state and churn rate"
      ],
      "metadata": {
        "id": "x-lUsV2mp1ck"
      }
    },
    {
      "cell_type": "markdown",
      "source": [
        "##### 3. Will the gained insights help creating a positive business impact?\n",
        "Are there any insights that lead to negative growth? Justify with specific reason."
      ],
      "metadata": {
        "id": "M7G43BXep1ck"
      }
    },
    {
      "cell_type": "markdown",
      "source": [
        "\n",
        "\n",
        "Positive impact:\n",
        "\n",
        "If the analysis reveals that customers from certain states have a lower churn rate, the company can focus their marketing efforts in those states to attract new customers.\n",
        "If the analysis shows that customers from certain states are more likely to stay with the company for a long time, the company can use this information to create targeted retention strategies for those customers.\n",
        "If the analysis uncovers specific reasons why customers from certain states are more likely to churn, the company can take steps to address those reasons and reduce overall churn rate.\n",
        "Negative impact:\n",
        "\n",
        "If the analysis reveals that customers from certain states have a significantly higher churn rate, the company may need to invest more resources into those states to reduce churn and retain customers, which could lead to increased costs.\n",
        "If the analysis shows that there are no discernible patterns or insights based on state, the company may need to invest more resources into data analysis to identify other factors that are contributing to churn, which could also lead to increased costs.\n",
        "Ultimately, the specific insights gained from the state churn rate data analysis will determine whether the impact is positive or negative for the business."
      ],
      "metadata": {
        "id": "5wwDJXsLp1cl"
      }
    },
    {
      "cell_type": "markdown",
      "source": [
        "#### Chart - 13"
      ],
      "metadata": {
        "id": "Ag9LCva-p1cl"
      }
    },
    {
      "cell_type": "code",
      "source": [
        "df.head()"
      ],
      "metadata": {
        "id": "45Zxh5ALx9Eq"
      },
      "execution_count": null,
      "outputs": []
    },
    {
      "cell_type": "code",
      "source": [
        "# Chart - 13 visualization code\n",
        "# Calculate the churn rates by plan type\n",
        "plan_churn_rates = df.pivot_table(index='International plan', values='Churn', aggfunc='mean')\n",
        "\n",
        "# Set the figure size\n",
        "fig, ax = plt.subplots(figsize=(8, 8))\n",
        "\n",
        "# Set the colors for the chart\n",
        "colors = ['#4e79a7', '#f28e2b']\n",
        "\n",
        "# Create the donut chart\n",
        "wedges, texts, autotexts = ax.pie(plan_churn_rates['Churn'], labels=plan_churn_rates.index, colors=colors, autopct='%1.1f%%', startangle=90, pctdistance=0.75, wedgeprops={'width': 0.4, 'edgecolor': 'w'})\n",
        "\n",
        "# Add a circle at the center to create the donut shape\n",
        "center_circle = plt.Circle((0, 0), 0.5, color='white', edgecolor='white', linewidth=0.1)\n",
        "fig.gca().add_artist(center_circle)\n",
        "\n",
        "# Set the title and font size\n",
        "ax.set_title('Churn Rates by Plan Type', fontsize=14)\n",
        "\n",
        "# Set the font size for the labels\n",
        "plt.setp(texts, fontsize=14)\n",
        "plt.setp(autotexts, fontsize=12, color='white')\n",
        "\n",
        "# Show the chart\n",
        "plt.show()"
      ],
      "metadata": {
        "id": "EUfxeq9-p1cl"
      },
      "execution_count": null,
      "outputs": []
    },
    {
      "cell_type": "markdown",
      "source": [
        "##### 1. Why did you pick the specific chart?"
      ],
      "metadata": {
        "id": "E6MkPsBcp1cl"
      }
    },
    {
      "cell_type": "markdown",
      "source": [
        "A donut chart can be useful in highlighting the proportion of each category within the whole dataset. It can help to identify which categories are the largest or smallest, and can make it easier to compare the relative sizes of different categories."
      ],
      "metadata": {
        "id": "V22bRsFWp1cl"
      }
    },
    {
      "cell_type": "markdown",
      "source": [
        "##### 2. What is/are the insight(s) found from the chart?"
      ],
      "metadata": {
        "id": "2cELzS2fp1cl"
      }
    },
    {
      "cell_type": "markdown",
      "source": [
        "A donut chart is a type of chart that displays data in a circular shape with a hole in the center. It is used to show the proportion of each category in a dataset. The chart is divided into segments, with each segment representing a category. The size of each segment is proportional to the value of the category it represents. The chart is useful for showing how much of the total is made up by each category."
      ],
      "metadata": {
        "id": "ozQPc2_Ip1cl"
      }
    },
    {
      "cell_type": "markdown",
      "source": [
        "##### 3. Will the gained insights help creating a positive business impact?\n",
        "Are there any insights that lead to negative growth? Justify with specific reason."
      ],
      "metadata": {
        "id": "3MPXvC8up1cl"
      }
    },
    {
      "cell_type": "markdown",
      "source": [
        "The insights gained from a donut chart can also potentially help create a positive business impact if the data reveals important patterns or correlations that can inform decision-making. For example, if the chart shows that a large proportion of customers are in a particular category, it could suggest that the business should focus on improving its offerings in that category to retain customers.\n",
        "\n",
        "However, there could also be insights that lead to negative growth. For instance, if the chart shows that a large proportion of customers are in a category that is not profitable for the business, it could suggest that the business needs to reevaluate its product offerings and focus on more profitable categories.\n",
        "\n",
        "Overall, the insights gained from a donut chart will depend on the specific patterns and correlations present in the data. It’s important to analyze the data thoroughly and interpret the results carefully to make informed business decisions that can help drive growth and profitability.\n",
        "\n",
        "\n",
        "\n",
        "\n",
        "Regenerate response"
      ],
      "metadata": {
        "id": "GL8l1tdLp1cl"
      }
    },
    {
      "cell_type": "markdown",
      "source": [
        "#### Chart - 14 - Correlation Heatmap"
      ],
      "metadata": {
        "id": "NC_X3p0fY2L0"
      }
    },
    {
      "cell_type": "code",
      "source": [
        "# Correlation Heatmap visualization code\n",
        "# calculate the correlation matrix\n",
        "corr = df.corr()\n",
        "\n",
        "# plot the correlation heatmap\n",
        "sns.heatmap(corr, cmap='coolwarm', annot=True)\n",
        "\n",
        "# set the title and display the plot\n",
        "plt.title('Correlation Heatmap')\n",
        "plt.show()"
      ],
      "metadata": {
        "id": "xyC9zolEZNRQ"
      },
      "execution_count": null,
      "outputs": []
    },
    {
      "cell_type": "markdown",
      "source": [
        "##### 1. Why did you pick the specific chart?"
      ],
      "metadata": {
        "id": "UV0SzAkaZNRQ"
      }
    },
    {
      "cell_type": "markdown",
      "source": [
        "From the correlation heatmap, we can see that some variables are highly correlated with each other, such as:\n",
        "\n",
        "Total day minutes, total day charge, and total day calls are highly positively correlated with each other\n",
        "Total eve minutes, total eve charge, and total eve calls are highly positively correlated with each other\n",
        "Total night minutes, total night charge, and total night calls are highly positively correlated with each other\n",
        "We can also observe some interesting negative correlations:\n",
        "\n",
        "There is a negative correlation between churn and customer service calls, which indicates that customers who make more customer service calls are less likely to churn\n",
        "There is a negative correlation between international plan and churn, indicating that customers who have international plan are less likely to churn\n",
        "Overall, this information can help businesses to identify the key drivers of customer churn and take appropriate measures to retain customers, such as improving customer service, offering international plans, and optimizing pricing strategies for different plans."
      ],
      "metadata": {
        "id": "DVPuT8LYZNRQ"
      }
    },
    {
      "cell_type": "markdown",
      "source": [
        "##### 2. What is/are the insight(s) found from the chart?"
      ],
      "metadata": {
        "id": "YPEH6qLeZNRQ"
      }
    },
    {
      "cell_type": "markdown",
      "source": [
        "From the correlation heatmap, we can observe that the three pairs of variables, total day charge & total day minute, total evening charge & total evening minute, and total night charge & total night minute, have a perfect positive correlation with each other, i.e., they are highly correlated with a correlation coefficient of 1.\n",
        "\n",
        "The number of customer service calls made by the customers is positively correlated only with the area code and negatively correlated with all other variables.\n",
        "\n",
        "We can also see that the total day minutes, total evening minutes, and total night minutes are highly correlated with each other, indicating that customers who spend more time on calls during the day also spend more time on calls during the evening and night.\n",
        "\n",
        "Furthermore, there is a strong positive correlation between the account length and the number of customer service calls made by the customers, indicating that customers who have been with the company for a longer duration are more likely to make service calls.\n",
        "\n",
        "Overall, the correlation heatmap provides us with valuable insights into the relationships between different variables, which can be used to gain a better understanding of the customer behavior and improve the company's performance."
      ],
      "metadata": {
        "id": "bfSqtnDqZNRR"
      }
    },
    {
      "cell_type": "markdown",
      "source": [
        "#### Chart - 15 - Pair Plot"
      ],
      "metadata": {
        "id": "q29F0dvdveiT"
      }
    },
    {
      "cell_type": "code",
      "source": [
        "# Pair Plot visualization code\n",
        "sns.set(style=\"ticks\", font_scale=1.2, rc={\"figure.figsize\":(10,8)})\n",
        "sns.set_palette(\"husl\")\n",
        "\n",
        "g = sns.pairplot(df, hue=\"Churn\")\n",
        "plt.title(\"Pairplot of Churn Data\")\n",
        "plt.show()"
      ],
      "metadata": {
        "id": "o58-TEIhveiU"
      },
      "execution_count": null,
      "outputs": []
    },
    {
      "cell_type": "markdown",
      "source": [
        "##### 1. Why did you pick the specific chart?"
      ],
      "metadata": {
        "id": "EXh0U9oCveiU"
      }
    },
    {
      "cell_type": "markdown",
      "source": [
        "Pair plot is a graphical representation used to identify patterns and relationships between features in a dataset. It helps to form simple classification models and identify the best set of features to explain the relationship between two variables or form separated clusters. It is a useful tool for exploratory data analysis and visualizing data distributions."
      ],
      "metadata": {
        "id": "eMmPjTByveiU"
      }
    },
    {
      "cell_type": "markdown",
      "source": [
        "##### 2. What is/are the insight(s) found from the chart?"
      ],
      "metadata": {
        "id": "22aHeOlLveiV"
      }
    },
    {
      "cell_type": "markdown",
      "source": [
        "The pair plot shows that there is less linear relationship between variables and the data points are not linearly separable. The churned customer data is clustered and overlapping, while the non-churn data is more symmetrical. The area code appears to be an important feature and the number of churns with respect to different features provides insightful information. Overall, the pair plot provides a visual summary of the relationships and patterns in the data.\n",
        "\n",
        "\n",
        "\n"
      ],
      "metadata": {
        "id": "uPQ8RGwHveiV"
      }
    },
    {
      "cell_type": "markdown",
      "source": [
        "## **5. Solution to Business Objective**"
      ],
      "metadata": {
        "id": "JcMwzZxoAimU"
      }
    },
    {
      "cell_type": "markdown",
      "source": [
        "#### What do you suggest the client to achieve Business Objective ?\n",
        "Explain Briefly."
      ],
      "metadata": {
        "id": "8G2x9gOozGDZ"
      }
    },
    {
      "cell_type": "markdown",
      "source": [
        "Answer Here.\n",
        "\n",
        "1.   Modify International Plan: Since the charge for the International Plan is the same as the normal plan, it might be a good idea to modify the plan to make it more attractive to customers who frequently make international calls.\n",
        "\n",
        "2.   Be proactive with communication: Communication is key in retaining customers. The company should be proactive in communicating with customers and addressing any concerns they may have.\n",
        "\n",
        "\n",
        "3.   Ask for feedback often: Regularly seeking feedback from customers can help the company identify areas for improvement and address any issues before they become major problems.\n",
        "\n",
        "4.  Periodically throw offers to retain customers: Offering discounts or promotions periodically can incentivize customers to stay with the company and reduce churn rates.\n",
        "\n",
        "5.  Look at the customers facing problem in the most churning states: Identifying the customers facing issues in the most churning states can help the company focus their efforts and resources to retain those customers.\n",
        "\n",
        "6.   Lean into best customers: Focusing on retaining the best customers, who generate the most revenue, can help the company maximize profits.\n",
        "\n",
        "7.   Regular server maintenance: Ensuring the servers are running smoothly can help prevent issues such as poor network connectivity and improve the customer experience.\n",
        "\n",
        "8.  Solving poor network connectivity issue: Addressing poor network connectivity can improve the customer experience and reduce the likelihood of churn.\n",
        "\n",
        "9.   Define a roadmap for new customers: Providing new customers with a clear roadmap of what to expect can help them feel more comfortable and committed to staying with the company.\n",
        "\n",
        "10.  Analyze churn when it happens: Analyzing churn as it happens can help the company identify patterns and factors that contribute to churn and make necessary changes to prevent it in the future.\n",
        "\n",
        "11. tay competitive: The company should continue to monitor the market and stay competitive by offering competitive pricing and features to attract and retain customers.\n"
      ],
      "metadata": {
        "id": "pASKb0qOza21"
      }
    },
    {
      "cell_type": "markdown",
      "source": [
        "# **Conclusion**"
      ],
      "metadata": {
        "id": "gCX9965dhzqZ"
      }
    },
    {
      "cell_type": "markdown",
      "source": [
        "\n",
        "\n",
        "*   The minute fields are more strongly associated with the charge fields than the area code or state fields, which suggests that these fields may not be as important for predicting churn.\n",
        "\n",
        "*   The International Plan field is a strong predictor of churn, suggesting that customers with this plan may have unique needs or concerns that the company should address.\n",
        "\n",
        "*   Customers with high numbers of customer service calls are at a greater risk of churning, indicating that the company should prioritize addressing their concerns and providing quality customer service.\n",
        "\n",
        "*  Customers with high day and evening minutes are also at a higher risk of churning, which suggests that the company should pay special attention to these customers and address any issues they may be experiencing with their service or plan.\n",
        "\n",
        "*   Finally, there is no obvious association between churn and several other variables, including day calls, evening calls, night calls, international calls, night minutes, international minutes, account length, and voicemail messages. However, this does not necessarily mean that these variables are not important for predicting churn, and further analysis may be needed to fully understand their relationship to customer churn.\n",
        "\n"
      ],
      "metadata": {
        "id": "Fjb1IsQkh3yE"
      }
    },
    {
      "cell_type": "markdown",
      "source": [
        "### ***Hurrah! You have successfully completed your EDA Capstone Project !!!***"
      ],
      "metadata": {
        "id": "gIfDvo9L0UH2"
      }
    }
  ]
}